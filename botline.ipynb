{
 "cells": [
  {
   "cell_type": "code",
   "execution_count": 2,
   "id": "84ae3403",
   "metadata": {},
   "outputs": [
    {
     "name": "stdout",
     "output_type": "stream",
     "text": [
      "Collecting songline\n",
      "  Downloading songline-0.0.2.tar.gz (4.2 kB)\n",
      "  Preparing metadata (setup.py): started\n",
      "  Preparing metadata (setup.py): finished with status 'done'\n",
      "Requirement already satisfied: requests in c:\\users\\ice32\\anaconda3\\lib\\site-packages (from songline) (2.31.0)\n",
      "Requirement already satisfied: charset-normalizer<4,>=2 in c:\\users\\ice32\\anaconda3\\lib\\site-packages (from requests->songline) (2.0.4)\n",
      "Requirement already satisfied: idna<4,>=2.5 in c:\\users\\ice32\\anaconda3\\lib\\site-packages (from requests->songline) (3.4)\n",
      "Requirement already satisfied: urllib3<3,>=1.21.1 in c:\\users\\ice32\\anaconda3\\lib\\site-packages (from requests->songline) (1.26.16)\n",
      "Requirement already satisfied: certifi>=2017.4.17 in c:\\users\\ice32\\anaconda3\\lib\\site-packages (from requests->songline) (2023.7.22)\n",
      "Building wheels for collected packages: songline\n",
      "  Building wheel for songline (setup.py): started\n",
      "  Building wheel for songline (setup.py): finished with status 'done'\n",
      "  Created wheel for songline: filename=songline-0.0.2-py3-none-any.whl size=4889 sha256=3063c5627376be66b56b812c6da123d1ee81d73adedcaa07445f2c55ff62e5ca\n",
      "  Stored in directory: c:\\users\\ice32\\appdata\\local\\pip\\cache\\wheels\\b2\\4f\\65\\ce99d4aea8fbcb5725495d42434718ae587be2c4dfafbff063\n",
      "Successfully built songline\n",
      "Installing collected packages: songline\n",
      "Successfully installed songline-0.0.2\n",
      "Note: you may need to restart the kernel to use updated packages.\n"
     ]
    }
   ],
   "source": [
    "pip install songline"
   ]
  },
  {
   "cell_type": "code",
   "execution_count": 3,
   "id": "e5de63e2",
   "metadata": {},
   "outputs": [],
   "source": [
    "import pandas as pd\n",
    "import bs4\n",
    "import requests\n",
    "import openpyxl\n",
    "import songline"
   ]
  },
  {
   "cell_type": "code",
   "execution_count": 6,
   "id": "e1755449",
   "metadata": {},
   "outputs": [],
   "source": [
    "page = 1\n",
    "name_list = []\n",
    "price_list = []"
   ]
  },
  {
   "cell_type": "code",
   "execution_count": 7,
   "id": "fced424f",
   "metadata": {},
   "outputs": [],
   "source": [
    "while page <= 10:\n",
    "    data = requests.get('https://www.tianchaimotor.com/category/8/%E0%B8%A1%E0%B8%AD%E0%B9%80%E0%B8%95%E0%B8%AD%E0%B8%A3%E0%B9%8C%E0%B9%84%E0%B8%8B%E0%B8%84%E0%B9%8C-auto?tskp='+str(page))\n",
    "    soup = bs4.BeautifulSoup(data.text)\n",
    "    price = soup.find_all(\"div\",{\"class\":\"product_price has_currency_unit\"})\n",
    "    for item in price:\n",
    "        price_list.append(item.text)\n",
    "    name = soup.find_all(\"div\",{\"class\":\"product_name\"})\n",
    "    for item in name:\n",
    "        name_list.append(item.text)\n",
    "    page += 1"
   ]
  },
  {
   "cell_type": "code",
   "execution_count": 8,
   "id": "1e32303f",
   "metadata": {},
   "outputs": [
    {
     "data": {
      "text/plain": [
       "<Response [401]>"
      ]
     },
     "execution_count": 8,
     "metadata": {},
     "output_type": "execute_result"
    }
   ],
   "source": [
    "table = pd.DataFrame([name_list,price_list]).transpose()\n",
    "table.columns = ['name','price']\n",
    "table.set_index('name')\n",
    "table.to_excel('All Cars.xlsx',engine='openpyxl') \n",
    "token = ' '  #ใส่ Token\n",
    "messenger = songline.Sendline(token)\n",
    "messenger.sendtext('มีสินค้าทั้งหมด '+ str(len(name_list)))"
   ]
  },
  {
   "cell_type": "code",
   "execution_count": null,
   "id": "bda02247",
   "metadata": {},
   "outputs": [],
   "source": [
    "for item in range(10):\n",
    "    messenger.sendtext( str(item+1)+ '. '+ name_list[item]+\" ราคา \" +str(price_list[item]))"
   ]
  }
 ],
 "metadata": {
  "kernelspec": {
   "display_name": "Python 3 (ipykernel)",
   "language": "python",
   "name": "python3"
  },
  "language_info": {
   "codemirror_mode": {
    "name": "ipython",
    "version": 3
   },
   "file_extension": ".py",
   "mimetype": "text/x-python",
   "name": "python",
   "nbconvert_exporter": "python",
   "pygments_lexer": "ipython3",
   "version": "3.11.5"
  }
 },
 "nbformat": 4,
 "nbformat_minor": 5
}
